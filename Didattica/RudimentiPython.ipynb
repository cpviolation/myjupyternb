{
 "cells": [
  {
   "cell_type": "markdown",
   "metadata": {},
   "source": [
    "# Rudimenti di Python per Laboratorio I\n",
    "\n",
    "In questa lezione sono forniti alcuni rudimenti di python che permettono di svolgere semplici operazioni di analisi dei dati. Non viene data alcuna introduzione al linguaggio di programmazione e molte definizioni saranno *operative*, cioè volte ad esemplificare come si può svolgere uno dei compiti richiesti utilizzando python come strumento piuttosto che capire come effettivamente funziona il linguaggio.\n",
    "\n",
    "## Installazione di Python\n",
    "\n",
    "Python è facilmente installabile su qualsiasi sistema operativo se non vi è già presente (OSX, Linux).\n",
    "\n",
    "### Sistemi Windows\n",
    "Su computer **Windows** il modo più semplice di utilizzare Python è installare [Anaconda Individual Edition](https://www.anaconda.com/products/individual). A seguito dell'installazione e dell'avvio del programma si apre una shell di comando che può essere utilizzata per inserire i comandi da eseguire.\n",
    "Il mio suggerimento è di creare un *Jupyter Notebook* per ciascuna delle esperienze che verranno effettuate.\n",
    "\n",
    "### Sistemi UNIX (OSX, Linux)\n",
    "Generalmente python è già installato nel sistema. Talvolta può accadere che la versione di python del sistema sia **python 2**, mentre quella più recente è la versione **3**. Si può verificare la presenza nel sistema di python3 digitando al prompt \n",
    "\n",
    "```\n",
    "$ python3\n",
    "```\n",
    "a seguito del quale dovrebbe apparire qualcosa di simile\n",
    "```\n",
    "Python 3.9.0 (default, Dec  6 2020, 19:27:10) \n",
    "[Clang 12.0.0 (clang-1200.0.32.27)] on darwin\n",
    "Type \"help\", \"copyright\", \"credits\" or \"license\" for more information.\n",
    ">>> \n",
    "```\n",
    "\n",
    "Una volta verificato che nel sistema è presente python3, la cosa più semplice è creare un ambiente virtuale contenente il software che vogliamo utilizzare (*jupyter*, *numpy*, *scipy*, *matplotlib*).\n",
    "\n",
    "```\n",
    "$ python3 -m venv laboratorioI\n",
    "$ source laboratorioI/bin/activate\n",
    "$ python -m pip install --upgrade pip\n",
    "$ export PKGS=(scipy jupyter matplotlib)\n",
    "$ for PKG in $PKGS; do pip install $PKG; done\n",
    "$ deactivate\n",
    "```\n",
    "Questi comandi creano un ambiente virtuale di python3 con i pacchetti *scipy*, *jupyter* e *matplotlib* (e le loro dipendenze).\n",
    "Per attivare l'ambiente virtuale, basta aprire un terminale e avviare il comando `activate` presente in `laboratorioI/bin`.\n",
    "\n",
    "\n",
    "Per verificare che l'installazione sia andata a buon fine\n",
    "```\n",
    "laboratorioI $ python\n",
    ">>> import scipy\n",
    ">>>\n",
    "```\n",
    "Se il terminale non dà errori è tutto in ordine.\n",
    "\n",
    "Per aprire una finestra del browser con jupyter notebook, basta inviare il seguente comando da shell\n",
    "```\n",
    "laboratorioI $ jupyter notebook\n",
    "```\n",
    "e si aprirà una pagina simile a questa.\n",
    "\n",
    "Il vantaggio di utilizzare *jupyter notebook* è che si possono alternare celle di testo a celle di codice eseguibile direttamente cliccando <shift+enter>"
   ]
  },
  {
   "cell_type": "code",
   "execution_count": 1,
   "metadata": {},
   "outputs": [
    {
     "data": {
      "text/plain": [
       "1.4142135623730951"
      ]
     },
     "execution_count": 1,
     "metadata": {},
     "output_type": "execute_result"
    }
   ],
   "source": [
    "import numpy as np\n",
    "np.sqrt(2)"
   ]
  },
  {
   "cell_type": "markdown",
   "metadata": {},
   "source": [
    "## Utilizzo di Base\n",
    "\n",
    "Una cella di comando può essere utilizzata per effettuare alcune operazioni di base, come operazioni aritmetiche o di definizione di variabili"
   ]
  },
  {
   "cell_type": "code",
   "execution_count": 2,
   "metadata": {},
   "outputs": [
    {
     "data": {
      "text/plain": [
       "5"
      ]
     },
     "execution_count": 2,
     "metadata": {},
     "output_type": "execute_result"
    }
   ],
   "source": [
    "2+3"
   ]
  },
  {
   "cell_type": "code",
   "execution_count": 3,
   "metadata": {},
   "outputs": [],
   "source": [
    "a = 4+5"
   ]
  },
  {
   "cell_type": "markdown",
   "metadata": {},
   "source": [
    "Per stampare il valore di una variabile in un dato momento si può utilizzare il comando `print`"
   ]
  },
  {
   "cell_type": "code",
   "execution_count": 4,
   "metadata": {},
   "outputs": [
    {
     "name": "stdout",
     "output_type": "stream",
     "text": [
      "9\n",
      "a = 9\n",
      "a = 9\n"
     ]
    }
   ],
   "source": [
    "print(a)\n",
    "print('a = {}'.format(a))\n",
    "print(\"a = {}\".format(a))"
   ]
  },
  {
   "cell_type": "markdown",
   "metadata": {},
   "source": [
    "per maggiori dettagli sull'utilizzo della funzione `format` si può consultare la [documentazione](https://docs.python.org/3.4/library/string.html#formatspec).\n",
    "\n",
    "È importante osservare che nel notebook le celle possono non essere eseguite in maniera sequenziale per cui talvolta può capitare di compiere errori di cambiamenti di valore di una variabile o non definizione della stessa, per cui si consiglia di cliccare su `Kernel->Restart & Run All` nella barra degli strumenti quando si abbia qualche dubbio."
   ]
  },
  {
   "cell_type": "markdown",
   "metadata": {},
   "source": [
    "## Funzioni e Librerie\n",
    "\n",
    "Il vantaggio di utilizzare python per il calcolo scientifico è che possiede molte librerie di funzioni scritte e verificate dalla comunità, per cui non si corre il rischio di \"reinventare la ruota\" ogni qual volta sia necessario  scrivere una funzione per svolgere una determinata operazione. Ad esempio la libreria [numpy](https://numpy.org) contiene varie funzioni matematiche di utilizzo comune scritte con una sintassi che permette un'efficiente operazione tra vettori."
   ]
  },
  {
   "cell_type": "code",
   "execution_count": 5,
   "metadata": {},
   "outputs": [
    {
     "name": "stdout",
     "output_type": "stream",
     "text": [
      "1.7320508075688772\n",
      "[1.         1.41421356 1.73205081]\n"
     ]
    },
    {
     "data": {
      "text/plain": [
       "array([1.        , 1.41421356, 1.73205081])"
      ]
     },
     "execution_count": 5,
     "metadata": {},
     "output_type": "execute_result"
    }
   ],
   "source": [
    "import numpy as np\n",
    "print(np.sqrt(3))\n",
    "print(np.sqrt(np.array([1,2,3])))\n",
    "np.sqrt(np.array([1,2,3]))"
   ]
  },
  {
   "cell_type": "markdown",
   "metadata": {},
   "source": [
    "Nel primo caso ho inserito come argomento della funzione `np.sqrt` un numero `int` e la funzione ha restituito un `float`. Nel secondo caso ho fornito un `numpy.array` ed ho ottenuto un altro vettore con i risultati dell'operazione per ciascun elemento del primo.\n",
    "\n",
    "Si osservi come il *modulo* `numpy` venga caricato tramite la funzione di python `import` e le venga dato il nome `np` per brevità. Dopo questo comando ogni funzione contenuta nel modulo `numpy` può essere chiamata utilizzando la sintassi `modulo.funzione(<argomento>)`.\n",
    "Ovviamente non è necessario rinominare i moduli in fase di caricamento."
   ]
  },
  {
   "cell_type": "code",
   "execution_count": 6,
   "metadata": {},
   "outputs": [
    {
     "data": {
      "text/plain": [
       "module"
      ]
     },
     "execution_count": 6,
     "metadata": {},
     "output_type": "execute_result"
    }
   ],
   "source": [
    "import scipy\n",
    "type(scipy)"
   ]
  },
  {
   "cell_type": "markdown",
   "metadata": {},
   "source": [
    "Per definire una funzione originale, si utilizza il comando `def`"
   ]
  },
  {
   "cell_type": "code",
   "execution_count": 7,
   "metadata": {},
   "outputs": [],
   "source": [
    "def func(x):\n",
    "    y = x*x\n",
    "    return y"
   ]
  },
  {
   "cell_type": "code",
   "execution_count": 8,
   "metadata": {},
   "outputs": [
    {
     "name": "stdout",
     "output_type": "stream",
     "text": [
      "4\n"
     ]
    }
   ],
   "source": [
    "y = func(2)\n",
    "print(y)"
   ]
  },
  {
   "cell_type": "markdown",
   "metadata": {},
   "source": [
    "Si osservi che la variabile `x` è passata alla funzione in modo agnostico, cioè python non si preoccupa che l'operazione che vogliamo eseguire su di essa sia valida. Questo ha grandi vantaggi, ad esempio permette di utilizzare la stessa funzione con un argomento del tutto diverso, ad esempio un vettore numpy:"
   ]
  },
  {
   "cell_type": "code",
   "execution_count": 9,
   "metadata": {},
   "outputs": [
    {
     "name": "stdout",
     "output_type": "stream",
     "text": [
      "[1 4 9]\n"
     ]
    }
   ],
   "source": [
    "y = func(np.array([1,2,3]))\n",
    "print(y)"
   ]
  },
  {
   "cell_type": "markdown",
   "metadata": {},
   "source": [
    "Ma può anche condurre ad errori nel caso venga utilizzata in modo non corretto, ad esempio se utilizzassimo come argomento una stringa"
   ]
  },
  {
   "cell_type": "code",
   "execution_count": 10,
   "metadata": {},
   "outputs": [],
   "source": [
    "#y = func('a')\n",
    "#print(y)"
   ]
  },
  {
   "cell_type": "markdown",
   "metadata": {},
   "source": [
    "Furtunatamente in questo caso il calcolatore ci ha fornito un messaggio di errore abbastanza chiaro, ma talvolta ciò non avviene e si rischia di introdurre un *bug* nel sistema."
   ]
  },
  {
   "cell_type": "markdown",
   "metadata": {},
   "source": [
    "## Operazioni Utili per il Laboratorio\n",
    "\n",
    "Questa lezione non può coprire tutti i dettagli di un linguaggio di programmazione così complesso, per cui a seguito dei rudimenti, tratteremo alcuni argomenti specifici di utilità per le esperienze di laboratorio\n",
    "- Disegno di dati e funzioni su un grafico\n",
    "- Interpolazione\n",
    "- Disegno della retta di interpolazione sul grafico\n",
    "- Calcolo del $\\chi^2$"
   ]
  },
  {
   "cell_type": "markdown",
   "metadata": {},
   "source": [
    "### Disegno dei dati e funzioni su un grafico\n",
    "\n",
    "Per disegnare i dati su un grafico si può utilizzare la libreria [matplotlib](https://matplotlib.org). In essa sono presenti funzioni per costruire istogrammi e disegnare funzioni.\n",
    "\n",
    "#### Istogrammi\n",
    "\n",
    "Supponiamo di voler disegnare un istogramma a partire dalle seguenti misure\n",
    "\n",
    "|  |  |  |  |  | \n",
    "| --- | --- | --- | --- | --- | \n",
    "| 3.10 | 2.99 | 2.93 | 3.12 | 3.04 | \n",
    "| 2.97 | 2.87 | 2.78 | 3.09 | 3.19 | \n",
    "| 3.03 | 3.11 | 2.87 | 2.98 | 2.89 | \n",
    "| 2.99 | 2.89 | 2.91 | 3.03 | 3.05 |\n",
    "\n",
    "Per prima cosa costruiamo un vettore con le misure"
   ]
  },
  {
   "cell_type": "code",
   "execution_count": 11,
   "metadata": {},
   "outputs": [],
   "source": [
    "x = np.array([3.10,2.99,2.93,3.12,3.04,\n",
    "              2.97,2.87,2.78,3.09,3.19,\n",
    "              3.03,3.11,2.87,2.98,2.89,\n",
    "              2.99,2.89,2.91,3.03,3.05])"
   ]
  },
  {
   "cell_type": "markdown",
   "metadata": {},
   "source": [
    "Quindi carichiamo il modulo `pyplot` dal modulo `matplotlib` e lo chiamiamo `plt` per brevità. In questo modulo è presente la funzione [`hist`](https://matplotlib.org/3.3.3/api/_as_gen/matplotlib.pyplot.hist.html) che permette di disegnare un istogramma"
   ]
  },
  {
   "cell_type": "code",
   "execution_count": 12,
   "metadata": {},
   "outputs": [
    {
     "data": {
      "text/plain": [
       "(array([1., 0., 4., 2., 2., 2., 4., 2., 2., 1.]),\n",
       " array([2.78 , 2.821, 2.862, 2.903, 2.944, 2.985, 3.026, 3.067, 3.108,\n",
       "        3.149, 3.19 ]),\n",
       " <BarContainer object of 10 artists>)"
      ]
     },
     "execution_count": 12,
     "metadata": {},
     "output_type": "execute_result"
    },
    {
     "data": {
      "image/png": "[encoded data removed]",
      "text/plain": [
       "<Figure size 432x288 with 1 Axes>"
      ]
     },
     "metadata": {
      "needs_background": "light"
     },
     "output_type": "display_data"
    }
   ],
   "source": [
    "from matplotlib import pyplot as plt\n",
    "plt.hist(x)"
   ]
  },
  {
   "cell_type": "markdown",
   "metadata": {},
   "source": [
    "Di base, la funzione disegna raccoglie gli elementi del vettore in un istogramma con 10 intervalli equipollenti, si può scegliere di utilizzare meno intervalli aggiungendo l'argomento `bins`"
   ]
  },
  {
   "cell_type": "code",
   "execution_count": 13,
   "metadata": {},
   "outputs": [
    {
     "data": {
      "text/plain": [
       "(array([1., 6., 4., 6., 3.]),\n",
       " array([2.78 , 2.862, 2.944, 3.026, 3.108, 3.19 ]),\n",
       " <BarContainer object of 5 artists>)"
      ]
     },
     "execution_count": 13,
     "metadata": {},
     "output_type": "execute_result"
    },
    {
     "data": {
      "image/png": "[encoded data removed]",
      "text/plain": [
       "<Figure size 432x288 with 1 Axes>"
      ]
     },
     "metadata": {
      "needs_background": "light"
     },
     "output_type": "display_data"
    }
   ],
   "source": [
    "plt.hist(x,bins=5)"
   ]
  },
  {
   "cell_type": "markdown",
   "metadata": {},
   "source": [
    "O addirittura definire intervalli di ampiezza diversa..."
   ]
  },
  {
   "cell_type": "code",
   "execution_count": 14,
   "metadata": {},
   "outputs": [
    {
     "data": {
      "text/plain": [
       "(array([5., 6., 9.]),\n",
       " array([2.7, 2.9, 3. , 3.2]),\n",
       " <BarContainer object of 3 artists>)"
      ]
     },
     "execution_count": 14,
     "metadata": {},
     "output_type": "execute_result"
    },
    {
     "data": {
      "image/png": "[encoded data removed]",
      "text/plain": [
       "<Figure size 432x288 with 1 Axes>"
      ]
     },
     "metadata": {
      "needs_background": "light"
     },
     "output_type": "display_data"
    }
   ],
   "source": [
    "plt.hist(x,bins=[2.7,2.9,3,3.2])"
   ]
  },
  {
   "cell_type": "markdown",
   "metadata": {},
   "source": [
    "Supponiamo che i dati siano distribuiti secondo una distribuzione di Gauss, possiamo calcolarne la media e la deviazione standard scrivendo una funzione  originale oppure utilizzando quelle fornite da `numpy`"
   ]
  },
  {
   "cell_type": "code",
   "execution_count": 15,
   "metadata": {},
   "outputs": [
    {
     "name": "stdout",
     "output_type": "stream",
     "text": [
      "2.9915\n",
      "2.9915\n",
      "x = 2.99 ± 0.10\n",
      "x = 2.99 ± 0.10\n"
     ]
    }
   ],
   "source": [
    "def media(x):\n",
    "    m = 0\n",
    "    for i in x:\n",
    "        m += i # += incrementa la variabile somma di i\n",
    "    m /= len(x) # len() restituisce il numero di elementi del vettore e /= divide la variabile m per len(x)\n",
    "    return m\n",
    "print(media(x))\n",
    "print(np.mean(x))\n",
    "print('x = {0:.2f} ± {1:.2f}'.format(np.mean(x),np.std(x)))\n",
    "print('x = {m:.2f} ± {s:.2f}'.format(m=np.mean(x),s=np.std(x))) # ulteriore esempio di formattazione, si noti la possibilità di scegliere la posizione delle variabili nella stampa"
   ]
  },
  {
   "cell_type": "markdown",
   "metadata": {},
   "source": [
    "Come atteso, la funzione da noi definita e la funzione di `numpy` forniscono lo stesso risultato.\n",
    "Nell'ultima stampa si è utilizzata anche la funzione `numpy.std` per calcolare la deviazione standard dei dati nel vettore.\n",
    "Tutto ciò che segue il carattere `#` nella linea è un commento: viene ignorato dal calcolatore, ma è utile al programmatore.\n",
    "\n",
    "**Esercizio**: Scrivere una funzione originale che calcola la deviazione standard degli elementi di un vettore e confrontarne il risultato con la funzione `numpy.std`"
   ]
  },
  {
   "cell_type": "markdown",
   "metadata": {},
   "source": [
    "#### Sovrapposizione di una funzione al grafico\n",
    "\n",
    "Per disegnare la distribuzione di Gauss corrispondente ai dati nel vettore `x` si può utilizzare la funzione `pyplot.plt` unita alla definizione della funzione da disegnare. Per semplicità costruiamo l'istogramma delle frequenze, così da non dover cambiare la noramlizzazione della funzione di Gauss."
   ]
  },
  {
   "cell_type": "code",
   "execution_count": 16,
   "metadata": {},
   "outputs": [
    {
     "data": {
      "text/plain": [
       "<matplotlib.legend.Legend at 0x11ad55d00>"
      ]
     },
     "execution_count": 16,
     "metadata": {},
     "output_type": "execute_result"
    },
    {
     "data": {
      "image/png": "[encoded data removed]",
      "text/plain": [
       "<Figure size 432x288 with 1 Axes>"
      ]
     },
     "metadata": {
      "needs_background": "light"
     },
     "output_type": "display_data"
    }
   ],
   "source": [
    "# Definisco la funzione\n",
    "def gaus(x,m,s):\n",
    "    h = 1./s/np.sqrt(2)\n",
    "    z = x-m\n",
    "    return np.exp(-np.power(h*z, 2.)) *h / np.sqrt(np.pi)\n",
    "\n",
    "# Definisco il numero degli intervalli, minimo, massimo e disegno l'istogramma\n",
    "num_bins = 5\n",
    "xmin, xmax = np.floor(10.*min(x))/10, np.ceil(10.*max(x))/10 # scelgo minimo e massimo arrotondando (oss: floor e ceil restituiscono un intero, io voglio arrotondare a 0.1, da cui la moltiplicazione e divisione per 10)\n",
    "plt.hist(x, num_bins, range = [xmin, xmax], alpha=0.5, density=True, label='data')\n",
    "\n",
    "# Abbellimento del grafico\n",
    "xt = [round(xmin+0.1*i,1) for i in range(num_bins+1)] # abbellimento del grafico: scelgo i punti dove disegnare gli intervalli\n",
    "plt.xticks(xt, [str(i) for i in xt]) # scrivo le tacchette sull'asse x\n",
    "plt.xlabel('$x_k$ (mm)') # titolo asse x\n",
    "plt.ylabel('Densità di Frequenza') # titolo asse y\n",
    "\n",
    "# Disegno la funzione\n",
    "mean, sigma = np.mean(x),np.std(x) # calcolo media e deviazione standard\n",
    "t = np.linspace(xmin,xmax) # questa funzione definisce un vettore ad alta densità per calcolare la funzione da disegnare lungo l'asse x\n",
    "plt.plot(t,gaus(t,mean, sigma),label=r\"$G(x;\\mu,\\sigma)$\")\n",
    "plt.legend() # aggiungo una legenda"
   ]
  },
  {
   "cell_type": "markdown",
   "metadata": {},
   "source": [
    "#### Disegno di un grafico con barre di errore\n",
    "\n",
    "Nella maggior parte delle esperienze, sarete chiamati a disegnare dei grafici con barre di errore per rappresentare i risultati delle misure. Suppongo di aver misurato il tempo di discesa di un carrellino al variare dell'angolo di inclinazione di un piano inclinato e di aver ottenuto i seguenti risultati\n",
    "\n",
    "|  $\\frac{1}{\\sin\\alpha}$  |  $t^2$ $(s^2)$ |\n",
    "|---|---|\n",
    "| 2.00 | 0.18 ± 0.10 |\n",
    "| 2.37 | 0.22 ± 0.09 |\n",
    "| 2.92 | 0.36 ± 0.17 |\n",
    "| 3.86 | 0.44 ± 0.12 |\n",
    "| 5.76 | 0.66 ± 0.22 |\n",
    "| 11.47 | 1.12 ± 0.22 |\n",
    "\n",
    "Si creano dei vettori con i valori ottenuti:"
   ]
  },
  {
   "cell_type": "code",
   "execution_count": 17,
   "metadata": {},
   "outputs": [],
   "source": [
    "X = np.array([11.47, 5.76, 3.86, 2.92, 2.37, 2.0])\n",
    "Y = np.array([1.12, 0.66, 0.44, 0.36, 0.22, 0.18])\n",
    "sy = 0.15\n",
    "sY = np.array(sy*np.ones(len(Y)))"
   ]
  },
  {
   "cell_type": "markdown",
   "metadata": {},
   "source": [
    "Quindi si può utilizzare la funzione `pyplot.errorbar` per disegnare il grafico dei valori `Y` corrispondenti a `X` con la barra di errore simmetrica `sY` (ovviamente i vettori devono avere la stessa dimensione perché la funzione dia un risultato)"
   ]
  },
  {
   "cell_type": "code",
   "execution_count": 27,
   "metadata": {
    "scrolled": true
   },
   "outputs": [
    {
     "data": {
      "text/plain": [
       "Text(0, 0.5, '$t^2 (s^2)$')"
      ]
     },
     "execution_count": 27,
     "metadata": {},
     "output_type": "execute_result"
    },
    {
     "data": {
      "image/png": "[encoded data removed]",
      "text/plain": [
       "<Figure size 432x288 with 1 Axes>"
      ]
     },
     "metadata": {
      "needs_background": "light"
     },
     "output_type": "display_data"
    }
   ],
   "source": [
    "plt.errorbar(X,Y,sY, fmt='o', ls='none', label='data')\n",
    "# abbellimenti\n",
    "plt.xlim(left=0)\n",
    "plt.xlabel(r'$\\frac{1}{\\sin\\alpha}$')\n",
    "plt.ylabel(r'$t^2 (s^2)$')"
   ]
  },
  {
   "cell_type": "markdown",
   "metadata": {},
   "source": [
    "### Effettuare un'interpolazione\n",
    "\n",
    "La cosa più semplice per effettuare un'interpolazione è scrivere le funzioni necessarie a partire dalle formule discusse a lezione. In questo esempio si utilizza una retta passante per l'origine $y = kx$:\n",
    "\n",
    "$$\n",
    "k = \\frac{\\sum_{i=1}^N x_iy_i}{\\sum_{i=1}^N x^2_i} \\qquad \\sigma_k^2 =  \\frac{\\sigma_y^2}{\\sum_{i=1}^N x^2_i}\n",
    "$$\n",
    "\n",
    "Si può scrivere una funzione che calcoli $k$ e $\\sigma_k$ a partire dai vettori `X`, `Y` e l'incertezza `sy` oppure eseguire le operazioni richieste in una cella (il vantaggio della funzione è che può essere riutilizzata per vari set di dati senza dover ricopiare le operazioni di volta in volta)."
   ]
  },
  {
   "cell_type": "code",
   "execution_count": 19,
   "metadata": {},
   "outputs": [],
   "source": [
    "def InterpolazioneLineareOrigine(x,y,sy):\n",
    "    '''\n",
    "    Dati due vettori di pari dimensione x, y e l'incertezza sy si può interpolare la retta passante per l'origine con il metodo dei minimi quadrati\n",
    "    '''\n",
    "    # controllo che x e y abbiano pari dimensione diversa da 0\n",
    "    if len(x) != len(y) or len(x) == 0:\n",
    "        print('I dati inseriti non sono validi')\n",
    "        return 0\n",
    "    if sy ==0 :\n",
    "        print(\"L'incertezza non può essere 0\")\n",
    "        return 0\n",
    "    # calcolo le sommatorie\n",
    "    sumxy = 0\n",
    "    sumx2 = 0\n",
    "    for i in range(len(x)): # range(n) = [0,1,2,..,n-1]\n",
    "        sumxy += x[i]*y[i]\n",
    "        sumx2 += x[i]*x[i]\n",
    "    k = sumxy/sumx2\n",
    "    sk = sy/np.sqrt(sumx2)\n",
    "    return (k,sk)"
   ]
  },
  {
   "cell_type": "markdown",
   "metadata": {},
   "source": [
    "**Esercizio**: si scriva una funzione per effettuare l'interpolazione di una retta generica\n",
    "\n",
    "**Esercizio**: si scriva una funzione per effettuare l'interpolazione di una retta generica con incertezze variabili\n",
    "\n",
    "Procedo all'interpolazione."
   ]
  },
  {
   "cell_type": "code",
   "execution_count": 20,
   "metadata": {},
   "outputs": [
    {
     "name": "stdout",
     "output_type": "stream",
     "text": [
      "(0.10253239182248688, 0.010665925249983442)\n",
      "k = 0.10 ± 0.01\n"
     ]
    }
   ],
   "source": [
    "res = InterpolazioneLineareOrigine(X,Y,sy)\n",
    "print(res)\n",
    "print('k = {:.2f} ± {:.2f}'.format(res[0],res[1]))"
   ]
  },
  {
   "cell_type": "markdown",
   "metadata": {},
   "source": [
    "### Disegno della retta interpolata sui dati\n",
    "\n",
    "Disegno la retta interpolata sui dati, similmente a quanto fatto quando è stata disegnata la funzione di Gauss"
   ]
  },
  {
   "cell_type": "code",
   "execution_count": 21,
   "metadata": {},
   "outputs": [
    {
     "data": {
      "text/plain": [
       "<matplotlib.legend.Legend at 0x11aed75b0>"
      ]
     },
     "execution_count": 21,
     "metadata": {},
     "output_type": "execute_result"
    },
    {
     "data": {
      "image/png": "[encoded data removed]",
      "text/plain": [
       "<Figure size 432x288 with 1 Axes>"
      ]
     },
     "metadata": {
      "needs_background": "light"
     },
     "output_type": "display_data"
    }
   ],
   "source": [
    "# Definisco la funzione che voglio disegnare\n",
    "def line(x,m,q=0):\n",
    "    y = m*x+q\n",
    "    return y\n",
    "\n",
    "# Disegno il grafico con barre di errore\n",
    "plt.errorbar(X,Y,sY, fmt='o', ls='none', label='data')\n",
    "# abbellimenti\n",
    "plt.xlim(left=0)\n",
    "plt.ylim(bottom=0)\n",
    "plt.text(max(X), -0.1*(max(Y)-min(Y)+2*max(sY)), r'$\\frac{1}{\\sin\\alpha}$')\n",
    "plt.text(-0.2*(max(X)-min(X)), max(Y)+max(sY), r'$t^2 (s^2)$')\n",
    "\n",
    "# Disegno la funzione\n",
    "xmin, xmax = 0, max(X)+0.1*(max(X)-min(X))\n",
    "t = np.linspace(xmin,xmax) # questa funzione definisce un vettore ad alta densità per calcolare la funzione da disegnare lungo l'asse x\n",
    "plt.plot(t,line(t,res[0]),label=r\"$y = {:.2f}x$\".format(res[0]))\n",
    "plt.legend() # aggiungo una legenda"
   ]
  },
  {
   "cell_type": "markdown",
   "metadata": {},
   "source": [
    "### Calcolo del $\\chi^2$\n",
    "\n",
    "Per calcolare il $\\chi^2$ si può di nuovo scrivere una funzione (o eseguire le operazioni in una cella):\n",
    "\n",
    "$$\n",
    "\\chi^2_0 = \\sum_{i=1}^N \\left(\\frac{y_i - k x_i}{\\sigma_{y_i}}\\right)^2= \\frac{\\sum_{i=1}^N \\left(y_i - k x_i\\right)^2}{\\sigma_{y}^2}\n",
    "$$"
   ]
  },
  {
   "cell_type": "code",
   "execution_count": 22,
   "metadata": {},
   "outputs": [],
   "source": [
    "def chisq(y,e,sy):\n",
    "    '''\n",
    "    y: vettore delle misure\n",
    "    e: vettore dei valori attesi per i valori di x considerati\n",
    "    sy: incertezza sulle misure\n",
    "    '''\n",
    "    if len(y)!=len(e) or len(y) == 0:\n",
    "        print('I dati inseriti non sono validi')\n",
    "        return 0\n",
    "    if sy ==0 :\n",
    "        print('L\\'incertezza non può essere 0')\n",
    "        return 0\n",
    "    c2 = 0\n",
    "    for i in range(len(y)): c2 += (y[i]-e[i])*(y[i]-e[i])\n",
    "    c2 /= sy*sy\n",
    "    return c2"
   ]
  },
  {
   "cell_type": "code",
   "execution_count": 23,
   "metadata": {},
   "outputs": [
    {
     "name": "stdout",
     "output_type": "stream",
     "text": [
      "chi2 = 0.66\n"
     ]
    }
   ],
   "source": [
    "chi2v = chisq(Y,line(X,res[0]),sy)\n",
    "print('chi2 = {:.2f}'.format(chi2v))"
   ]
  },
  {
   "cell_type": "markdown",
   "metadata": {},
   "source": [
    "Il test del $\\chi^2$ si può effettuare calcolando il numero di gradi di libertà del problema (n-1 in questo caso) e utilizzando la *classe* `chi2` del *modulo* `scipy.stats` che permette di calcolare la funzione cumulativa (`cdf`) della distribuzione del $\\chi^2$ con *d* gradi di libertà fino ad un dato valore (`chi2v` nel nostro caso)\n",
    "\n",
    "$$\n",
    "P_0 = P(\\chi^2 \\geq \\chi^2_0) = \\int_{\\chi^2_0}^{+\\infty}f(\\chi^2;d)\\mathrm{d}\\chi^2 = 1- \\int_{0}^{\\chi^2_0}f(\\chi^2;d)\\mathrm{d}\\chi^2\n",
    "$$"
   ]
  },
  {
   "cell_type": "code",
   "execution_count": 24,
   "metadata": {},
   "outputs": [
    {
     "name": "stdout",
     "output_type": "stream",
     "text": [
      "P(chi2) = 98.5%\n"
     ]
    }
   ],
   "source": [
    "from scipy.stats import chi2\n",
    "d = len(Y)-1\n",
    "pchi2 = 1-chi2.cdf(chi2v,d)\n",
    "print('P(chi2) = {:.1f}%'.format(100.*pchi2))"
   ]
  },
  {
   "cell_type": "code",
   "execution_count": null,
   "metadata": {},
   "outputs": [],
   "source": []
  }
 ],
 "metadata": {
  "kernelspec": {
   "display_name": "Python 3",
   "language": "python",
   "name": "python3"
  },
  "language_info": {
   "codemirror_mode": {
    "name": "ipython",
    "version": 3
   },
   "file_extension": ".py",
   "mimetype": "text/x-python",
   "name": "python",
   "nbconvert_exporter": "python",
   "pygments_lexer": "ipython3",
   "version": "3.9.0"
  }
 },
 "nbformat": 4,
 "nbformat_minor": 4
}
