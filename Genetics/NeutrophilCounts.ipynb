{
 "cells": [
  {
   "cell_type": "markdown",
   "metadata": {},
   "source": [
    "# Neutrophil Counts\n",
    "\n",
    "This code takes Neutrophil counts from men and women with deleted and duplicated genes and compare them vs. control samples.\n",
    "\n",
    "1. plot distribution of NEUTc (wo)men del vs. cont vs. dup\n",
    "2. calculate separation bewteen del and cont in men and women"
   ]
  },
  {
   "cell_type": "code",
   "execution_count": 3,
   "metadata": {},
   "outputs": [
    {
     "name": "stdout",
     "output_type": "stream",
     "text": [
      "\n",
      "\u001b[1mRooFit v3.60 -- Developed by Wouter Verkerke and David Kirkby\u001b[0m \n",
      "                Copyright (C) 2000-2013 NIKHEF, University of California & Stanford University\n",
      "                All rights reserved, please read http://roofit.sourceforge.net/license.txt\n",
      "\n"
     ]
    }
   ],
   "source": [
    "# Import useful functions\n",
    "import ROOT as r\n",
    "from AnalysisHelpers.ROOTUtils import DefineTree"
   ]
  },
  {
   "cell_type": "code",
   "execution_count": 11,
   "metadata": {},
   "outputs": [
    {
     "name": "stdout",
     "output_type": "stream",
     "text": [
      "ID array('i', [0]) 0 int i\n",
      "sex array('i', [0]) 0 int i\n",
      "CNV16p600kb array('i', [0]) 0 int i\n",
      "NEUTc array('f', [0.0]) 0.0 float f\n",
      "******************************************************************************\n",
      "*Tree    :tree      : a tree for my variable                                 *\n",
      "*Entries :        0 : Total =            2279 bytes  File  Size =          0 *\n",
      "*        :          : Tree compression factor =   1.00                       *\n",
      "******************************************************************************\n",
      "*Br    0 :ID        : ID/I                                                   *\n",
      "*Entries :        0 : Total  Size=        473 bytes  One basket in memory    *\n",
      "*Baskets :        0 : Basket Size=      32000 bytes  Compression=   1.00     *\n",
      "*............................................................................*\n",
      "*Br    1 :sex       : sex/I                                                  *\n",
      "*Entries :        0 : Total  Size=        477 bytes  One basket in memory    *\n",
      "*Baskets :        0 : Basket Size=      32000 bytes  Compression=   1.00     *\n",
      "*............................................................................*\n",
      "*Br    2 :CNV16p600kb : CNV16p600kb/I                                        *\n",
      "*Entries :        0 : Total  Size=        509 bytes  One basket in memory    *\n",
      "*Baskets :        0 : Basket Size=      32000 bytes  Compression=   1.00     *\n",
      "*............................................................................*\n",
      "*Br    3 :NEUTc     : NEUTc/F                                                *\n",
      "*Entries :        0 : Total  Size=        485 bytes  One basket in memory    *\n",
      "*Baskets :        0 : Basket Size=      32000 bytes  Compression=   1.00     *\n",
      "*............................................................................*\n"
     ]
    }
   ],
   "source": [
    "#load data\n",
    "def loadData(filename):\n",
    "    t = DefineTree({'ID': 'I', 'sex': 'I', 'CNV16p600kb': 'I', 'NEUTc': 'F'})\n",
    "#    i = 0\n",
    "    for l in open(filename,'r'):\n",
    "        if 'ID' in l: continue\n",
    "        dd = l.split(',')\n",
    "#        i += 1\n",
    "        t['vars']['ID'][0] = int(dd[1])\n",
    "        t['vars']['sex'][0] = int(dd[2])\n",
    "        t['vars']['CNV16p600kb'][0] = int(dd[3])\n",
    "        t['vars']['NEUTc'][0] = float(dd[4])\n",
    "        t['tree'].Fill()\n",
    "    return t\n",
    "data = loadData('data/NEUTc.txt')"
   ]
  },
  {
   "cell_type": "code",
   "execution_count": 12,
   "metadata": {},
   "outputs": [
    {
     "data": {
      "text/plain": [
       "359044"
      ]
     },
     "execution_count": 12,
     "metadata": {},
     "output_type": "execute_result"
    }
   ],
   "source": [
    "data['tree'].GetEntries()"
   ]
  },
  {
   "cell_type": "code",
   "execution_count": 14,
   "metadata": {},
   "outputs": [],
   "source": [
    "# disegnare distribuzione NEUTc uomini delete vs. cont vs. dup (-1, 0, 1)\n",
    "men_del = []\n",
    "men_con = []\n",
    "men_dup = []\n",
    "for ev in data['tree']:\n",
    "    if ev.sex == 1: continue\n",
    "    if ev.CNV16p600kb == 0: men_con += [ev.NEUTc]\n",
    "    if ev.CNV16p600kb == -1: men_del += [ev.NEUTc]\n",
    "    if ev.CNV16p600kb == 1: men_dup += [ev.NEUTc]\n",
    "# disegnare distribuzione NEUTc donne delete vs. cont vs. dup (-1, 0, 1)\n",
    "# significatività separazione del vs. cont uomini e donne"
   ]
  },
  {
   "cell_type": "code",
   "execution_count": 39,
   "metadata": {},
   "outputs": [
    {
     "data": {
      "text/plain": [
       "(array([2.89745938e-02, 2.78022126e-01, 8.21289020e-02, 8.08617431e-03,\n",
       "        9.89254975e-04, 1.47247596e-04, 4.14781960e-05, 6.22172940e-06,\n",
       "        2.07390980e-06, 8.29563920e-06]),\n",
       " array([ 0.        ,  2.51000004,  5.02000008,  7.53000011, 10.04000015,\n",
       "        12.55000019, 15.06000023, 17.57000027, 20.08000031, 22.59000034,\n",
       "        25.10000038]),\n",
       " <BarContainer object of 10 artists>)"
      ]
     },
     "execution_count": 39,
     "metadata": {},
     "output_type": "execute_result"
    },
    {
     "data": {
      "image/png": "[encoded data removed]",
      "text/plain": [
       "<Figure size 432x288 with 1 Axes>"
      ]
     },
     "metadata": {
      "needs_background": "light"
     },
     "output_type": "display_data"
    }
   ],
   "source": [
    "from matplotlib import pyplot as plt\n",
    "\n",
    "plt.hist(men_con,density=True)"
   ]
  },
  {
   "cell_type": "code",
   "execution_count": 35,
   "metadata": {},
   "outputs": [],
   "source": [
    "from AnalysisHelpers.HistUtils import HistUtils\n",
    "hu = HistUtils()\n",
    "h = {}\n",
    "for i in ['del','con','dup']: h['men_'+i] = hu.DeclareHis('men_'+i,'CNV16p600kb',15,0,15)"
   ]
  },
  {
   "cell_type": "code",
   "execution_count": 36,
   "metadata": {},
   "outputs": [],
   "source": [
    "for ev in data['tree']:\n",
    "    if ev.sex == 1: continue\n",
    "    if ev.CNV16p600kb == 0: h['men_con'].Fill(ev.NEUTc)\n",
    "    if ev.CNV16p600kb == -1: h['men_del'].Fill(ev.NEUTc)\n",
    "    if ev.CNV16p600kb == 1: h['men_dup'].Fill(ev.NEUTc)"
   ]
  },
  {
   "cell_type": "code",
   "execution_count": 37,
   "metadata": {},
   "outputs": [
    {
     "data": {
      "image/png": "[encoded data removed]",
      "text/plain": [
       "<IPython.core.display.Image object>"
      ]
     },
     "metadata": {},
     "output_type": "display_data"
    }
   ],
   "source": [
    "can = hu.PlotNorm([h['men_con'],h['men_del'],h['men_dup']])\n",
    "can['canvas'].Draw()"
   ]
  },
  {
   "cell_type": "code",
   "execution_count": 43,
   "metadata": {},
   "outputs": [
    {
     "name": "stdout",
     "output_type": "stream",
     "text": [
      "del: 4.79 ± 1.27\n",
      "con: 4.21 ± 1.39\n",
      "dup: 4.15 ± 1.25\n"
     ]
    }
   ],
   "source": [
    "import numpy as np\n",
    "print('del: {:.2f} ± {:.2f}'.format(np.mean(men_del),np.std(men_del)))\n",
    "print('con: {:.2f} ± {:.2f}'.format(np.mean(men_con),np.std(men_con)))\n",
    "print('dup: {:.2f} ± {:.2f}'.format(np.mean(men_dup),np.std(men_dup)))"
   ]
  },
  {
   "cell_type": "code",
   "execution_count": 44,
   "metadata": {},
   "outputs": [
    {
     "data": {
      "image/png": "[encoded data removed]",
      "text/plain": [
       "<IPython.core.display.Image object>"
      ]
     },
     "metadata": {},
     "output_type": "display_data"
    }
   ],
   "source": [
    "can = hu.PlotNorm([h['men_con'],h['men_del']])\n",
    "can['canvas'].Draw()"
   ]
  },
  {
   "cell_type": "code",
   "execution_count": null,
   "metadata": {},
   "outputs": [],
   "source": []
  }
 ],
 "metadata": {
  "kernelspec": {
   "display_name": "Python 3",
   "language": "python",
   "name": "python3"
  },
  "language_info": {
   "codemirror_mode": {
    "name": "ipython",
    "version": 3
   },
   "file_extension": ".py",
   "mimetype": "text/x-python",
   "name": "python",
   "nbconvert_exporter": "python",
   "pygments_lexer": "ipython3",
   "version": "3.9.0"
  }
 },
 "nbformat": 4,
 "nbformat_minor": 4
}
