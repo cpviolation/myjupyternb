{
 "cells": [
  {
   "cell_type": "markdown",
   "metadata": {},
   "source": [
    "# Neutrophil Counts\n",
    "\n",
    "This code takes Neutrophil counts from men and women with deleted and duplicated genes and compare them vs. control samples.\n",
    "\n",
    "1. plot distribution of NEUTc (wo)men del vs. cont vs. dup\n",
    "2. calculate separation bewteen del and cont in men and women"
   ]
  },
  {
   "cell_type": "markdown",
   "metadata": {},
   "source": [
    "## Librerie Utilizzate"
   ]
  },
  {
   "cell_type": "code",
   "execution_count": 45,
   "metadata": {},
   "outputs": [],
   "source": [
    "import numpy as np\n",
    "import pandas as pd\n",
    "from matplotlib import pyplot as plt"
   ]
  },
  {
   "cell_type": "markdown",
   "metadata": {},
   "source": [
    "## Caricamento Dati\n",
    "Carico i dati in un DataFrame pandas utilizzando la funzione adatta"
   ]
  },
  {
   "cell_type": "code",
   "execution_count": 44,
   "metadata": {},
   "outputs": [
    {
     "data": {
      "text/html": [
       "<div>\n",
       "<style scoped>\n",
       "    .dataframe tbody tr th:only-of-type {\n",
       "        vertical-align: middle;\n",
       "    }\n",
       "\n",
       "    .dataframe tbody tr th {\n",
       "        vertical-align: top;\n",
       "    }\n",
       "\n",
       "    .dataframe thead th {\n",
       "        text-align: right;\n",
       "    }\n",
       "</style>\n",
       "<table border=\"1\" class=\"dataframe\">\n",
       "  <thead>\n",
       "    <tr style=\"text-align: right;\">\n",
       "      <th></th>\n",
       "      <th>ID</th>\n",
       "      <th>sex</th>\n",
       "      <th>CNV16p600kb</th>\n",
       "      <th>NEUTc</th>\n",
       "    </tr>\n",
       "  </thead>\n",
       "  <tbody>\n",
       "    <tr>\n",
       "      <th>1</th>\n",
       "      <td>1000224</td>\n",
       "      <td>0</td>\n",
       "      <td>0</td>\n",
       "      <td>4.67</td>\n",
       "    </tr>\n",
       "    <tr>\n",
       "      <th>2</th>\n",
       "      <td>1000385</td>\n",
       "      <td>1</td>\n",
       "      <td>0</td>\n",
       "      <td>2.40</td>\n",
       "    </tr>\n",
       "    <tr>\n",
       "      <th>3</th>\n",
       "      <td>1001118</td>\n",
       "      <td>1</td>\n",
       "      <td>0</td>\n",
       "      <td>6.07</td>\n",
       "    </tr>\n",
       "    <tr>\n",
       "      <th>4</th>\n",
       "      <td>1001492</td>\n",
       "      <td>0</td>\n",
       "      <td>0</td>\n",
       "      <td>3.40</td>\n",
       "    </tr>\n",
       "    <tr>\n",
       "      <th>5</th>\n",
       "      <td>1003261</td>\n",
       "      <td>1</td>\n",
       "      <td>0</td>\n",
       "      <td>3.94</td>\n",
       "    </tr>\n",
       "    <tr>\n",
       "      <th>...</th>\n",
       "      <td>...</td>\n",
       "      <td>...</td>\n",
       "      <td>...</td>\n",
       "      <td>...</td>\n",
       "    </tr>\n",
       "    <tr>\n",
       "      <th>359040</th>\n",
       "      <td>6015512</td>\n",
       "      <td>1</td>\n",
       "      <td>0</td>\n",
       "      <td>3.14</td>\n",
       "    </tr>\n",
       "    <tr>\n",
       "      <th>359041</th>\n",
       "      <td>6016430</td>\n",
       "      <td>0</td>\n",
       "      <td>0</td>\n",
       "      <td>5.22</td>\n",
       "    </tr>\n",
       "    <tr>\n",
       "      <th>359042</th>\n",
       "      <td>6017303</td>\n",
       "      <td>1</td>\n",
       "      <td>0</td>\n",
       "      <td>4.11</td>\n",
       "    </tr>\n",
       "    <tr>\n",
       "      <th>359043</th>\n",
       "      <td>6024367</td>\n",
       "      <td>1</td>\n",
       "      <td>0</td>\n",
       "      <td>5.61</td>\n",
       "    </tr>\n",
       "    <tr>\n",
       "      <th>359044</th>\n",
       "      <td>6025018</td>\n",
       "      <td>1</td>\n",
       "      <td>0</td>\n",
       "      <td>5.50</td>\n",
       "    </tr>\n",
       "  </tbody>\n",
       "</table>\n",
       "<p>359044 rows × 4 columns</p>\n",
       "</div>"
      ],
      "text/plain": [
       "             ID  sex  CNV16p600kb  NEUTc\n",
       "1       1000224    0            0   4.67\n",
       "2       1000385    1            0   2.40\n",
       "3       1001118    1            0   6.07\n",
       "4       1001492    0            0   3.40\n",
       "5       1003261    1            0   3.94\n",
       "...         ...  ...          ...    ...\n",
       "359040  6015512    1            0   3.14\n",
       "359041  6016430    0            0   5.22\n",
       "359042  6017303    1            0   4.11\n",
       "359043  6024367    1            0   5.61\n",
       "359044  6025018    1            0   5.50\n",
       "\n",
       "[359044 rows x 4 columns]"
      ]
     },
     "execution_count": 44,
     "metadata": {},
     "output_type": "execute_result"
    }
   ],
   "source": [
    "data = pd.read_csv(\"data/NEUTc.txt\", index_col=0)\n",
    "data"
   ]
  },
  {
   "cell_type": "markdown",
   "metadata": {},
   "source": [
    "## Guardo i dati\n",
    "Disegno la distribuzione dei conteggi dei neutrofili per il campione di controllo, duplicato e deleto.\n",
    "Prima seleziono i campioni dal `DataFrame`:"
   ]
  },
  {
   "cell_type": "code",
   "execution_count": 35,
   "metadata": {},
   "outputs": [],
   "source": [
    "men_del = data[(data['sex']==1) & (data['CNV16p600kb']==-1)]['NEUTc']\n",
    "men_con = data[(data['sex']==1) & (data['CNV16p600kb']==0)]['NEUTc']\n",
    "men_dup = data[(data['sex']==1) & (data['CNV16p600kb']==1)]['NEUTc']"
   ]
  },
  {
   "cell_type": "markdown",
   "metadata": {},
   "source": [
    "Poi li disegno in un grafico"
   ]
  },
  {
   "cell_type": "code",
   "execution_count": 46,
   "metadata": {},
   "outputs": [
    {
     "data": {
      "text/plain": [
       "<matplotlib.legend.Legend at 0x1199722e0>"
      ]
     },
     "execution_count": 46,
     "metadata": {},
     "output_type": "execute_result"
    },
    {
     "data": {
      "image/png": "[encoded data removed]",
      "text/plain": [
       "<Figure size 432x288 with 1 Axes>"
      ]
     },
     "metadata": {
      "needs_background": "light"
     },
     "output_type": "display_data"
    }
   ],
   "source": [
    "bins= np.linspace(0,15,30)\n",
    "plt.hist(men_con,bins,alpha = 0.5,density=True,label='con')\n",
    "plt.hist(men_del,bins,alpha = 0.5,density=True,label='del')\n",
    "plt.hist(men_dup,bins,alpha = 0.5,density=True,label='dup')\n",
    "plt.xlabel('NEUTc')\n",
    "plt.ylabel('Density')\n",
    "plt.legend()"
   ]
  },
  {
   "cell_type": "markdown",
   "metadata": {},
   "source": [
    "Le distribuzioni di campione di controllo e duplicato sembrano simili, quella del campione deleto invece sembra differente. Ciò però non appare evidente se si calcolano media e deviazione standard delle misure"
   ]
  },
  {
   "cell_type": "code",
   "execution_count": 48,
   "metadata": {},
   "outputs": [
    {
     "name": "stdout",
     "output_type": "stream",
     "text": [
      "del: 5.24 ± 1.35\n",
      "con: 4.29 ± 1.43\n",
      "dup: 4.58 ± 1.90\n"
     ]
    }
   ],
   "source": [
    "print('del: {:.2f} ± {:.2f}'.format(men_del.mean(),men_del.std()))\n",
    "print('con: {:.2f} ± {:.2f}'.format(men_con.mean(),men_con.std()))\n",
    "print('dup: {:.2f} ± {:.2f}'.format(men_dup.mean(),men_dup.std()))"
   ]
  },
  {
   "cell_type": "markdown",
   "metadata": {},
   "source": [
    "Concentriamoci su campione deleto e controllo"
   ]
  },
  {
   "cell_type": "code",
   "execution_count": 49,
   "metadata": {},
   "outputs": [
    {
     "data": {
      "text/plain": [
       "<matplotlib.legend.Legend at 0x119ae48b0>"
      ]
     },
     "execution_count": 49,
     "metadata": {},
     "output_type": "execute_result"
    },
    {
     "data": {
      "image/png": "[encoded data removed]",
      "text/plain": [
       "<Figure size 432x288 with 1 Axes>"
      ]
     },
     "metadata": {
      "needs_background": "light"
     },
     "output_type": "display_data"
    }
   ],
   "source": [
    "plt.hist(men_con,bins,alpha = 0.5,density=True,label='con')\n",
    "plt.hist(men_del,bins,alpha = 0.5,density=True,label='del')\n",
    "plt.xlabel('NEUTc')\n",
    "plt.ylabel('Density')\n",
    "plt.legend()"
   ]
  },
  {
   "cell_type": "markdown",
   "metadata": {},
   "source": [
    "Si potrebbe effettuare un test del $\\chi^2$ tra le due distribuzioni normalizzate"
   ]
  },
  {
   "cell_type": "code",
   "execution_count": 86,
   "metadata": {
    "scrolled": true
   },
   "outputs": [
    {
     "name": "stdout",
     "output_type": "stream",
     "text": [
      "Calcolo chi2\n",
      "0: con= 1.59e-03 ± 9.76e-05\t del= 0.00e+00 ± 0.00e+00\t chi2=265.00\n",
      "1: con= 1.36e-02 ± 2.85e-04\t del= 0.00e+00 ± 0.00e+00\t chi2=2260.00\n",
      "2: con= 1.39e-01 ± 9.13e-04\t del= 4.00e-02 ± 2.83e-02\t chi2=12.23\n",
      "3: con= 3.13e-01 ± 1.37e-03\t del= 1.40e-01 ± 5.29e-02\t chi2=10.67\n",
      "4: con= 2.74e-01 ± 1.28e-03\t del= 3.00e-01 ± 7.75e-02\t chi2=0.11\n",
      "5: con= 1.50e-01 ± 9.48e-04\t del= 2.80e-01 ± 7.48e-02\t chi2=3.03\n",
      "6: con= 6.45e-02 ± 6.22e-04\t del= 1.40e-01 ± 5.29e-02\t chi2=2.04\n",
      "7: con= 2.58e-02 ± 3.93e-04\t del= 6.00e-02 ± 3.46e-02\t chi2=0.98\n",
      "8: con= 1.07e-02 ± 2.54e-04\t del= 4.00e-02 ± 2.83e-02\t chi2=1.07\n",
      "9: con= 4.49e-03 ± 1.64e-04\t del= 0.00e+00 ± 0.00e+00\t chi2=749.00\n",
      "10: con= 1.95e-03 ± 1.08e-04\t del= 0.00e+00 ± 0.00e+00\t chi2=326.00\n",
      "11: con= 9.17e-04 ± 7.42e-05\t del= 0.00e+00 ± 0.00e+00\t chi2=153.00\n",
      "12: con= 4.32e-04 ± 5.09e-05\t del= 0.00e+00 ± 0.00e+00\t chi2=72.00\n",
      "13: con= 1.80e-04 ± 3.28e-05\t del= 0.00e+00 ± 0.00e+00\t chi2=30.00\n",
      "14: con= 1.26e-04 ± 2.75e-05\t del= 0.00e+00 ± 0.00e+00\t chi2=21.00\n",
      "chi2 = 3906.12\n"
     ]
    }
   ],
   "source": [
    "# fill array with bin counts\n",
    "hcon = np.zeros(15)\n",
    "hdel = np.zeros(15)\n",
    "for i in men_con:\n",
    "    if i >= 15: continue\n",
    "    hcon[int(i)] += 1\n",
    "for i in men_del:\n",
    "    if i >= 15: continue\n",
    "    hdel[int(i)] += 1\n",
    "#print(hcon,hdel)\n",
    "hcon_s = [np.sqrt(i) if i > 0 else 0 for i in hcon]\n",
    "hdel_s = [np.sqrt(i) if i > 0 else 0 for i in hdel]\n",
    "#print(hcon_s,hdel_s)\n",
    "# normalize\n",
    "hconN = hcon/hcon.sum()\n",
    "hdelN = hdel/hdel.sum()\n",
    "#print(hconN,hconN.sum(), hdelN, hdelN.sum())\n",
    "hconN_s = hcon_s/hcon.sum()\n",
    "hdelN_s = hdel_s/hdel.sum()\n",
    "#print(hconN_s, hdelN_s)\n",
    "# calcolo chi2\n",
    "print('Calcolo chi2')\n",
    "chi2v = 0\n",
    "for i in range(15):\n",
    "    chi2i = (hconN[i] - hdelN[i])**2 / ( hconN_s[i]**2 + hdelN_s[i]**2 )\n",
    "    chi2v+=chi2i\n",
    "    print('{}: con= {:.2e} ± {:.2e}\\t del= {:.2e} ± {:.2e}\\t chi2={:.2f}'.format(\n",
    "    i, hconN[i], hconN_s[i], hdelN[i], hdelN_s[i], chi2i))\n",
    "print('chi2 = {:.2f}'.format(chi2v))"
   ]
  },
  {
   "cell_type": "code",
   "execution_count": 87,
   "metadata": {},
   "outputs": [
    {
     "name": "stdout",
     "output_type": "stream",
     "text": [
      "P(chi2) = 0.0\n"
     ]
    }
   ],
   "source": [
    "# test del chi2\n",
    "from scipy.stats import chi2\n",
    "d = 15\n",
    "pchi2 = 1-chi2.cdf(chi2v,d)\n",
    "print('P(chi2) = {}'.format(pchi2))"
   ]
  },
  {
   "cell_type": "markdown",
   "metadata": {},
   "source": [
    "Non sono convinto che il test del $\\chi2$ sia giusto o eseguito correttamente."
   ]
  },
  {
   "cell_type": "markdown",
   "metadata": {},
   "source": [
    "Oppure un t-test tra i campioni"
   ]
  },
  {
   "cell_type": "code",
   "execution_count": 51,
   "metadata": {},
   "outputs": [
    {
     "data": {
      "text/plain": [
       "Ttest_indResult(statistic=4.717373212362895, pvalue=2.391021960032402e-06)"
      ]
     },
     "execution_count": 51,
     "metadata": {},
     "output_type": "execute_result"
    }
   ],
   "source": [
    "from scipy.stats import ttest_ind\n",
    "ttest_ind(men_del, men_con)"
   ]
  },
  {
   "cell_type": "code",
   "execution_count": null,
   "metadata": {},
   "outputs": [],
   "source": []
  }
 ],
 "metadata": {
  "kernelspec": {
   "display_name": "Python 3",
   "language": "python",
   "name": "python3"
  },
  "language_info": {
   "codemirror_mode": {
    "name": "ipython",
    "version": 3
   },
   "file_extension": ".py",
   "mimetype": "text/x-python",
   "name": "python",
   "nbconvert_exporter": "python",
   "pygments_lexer": "ipython3",
   "version": "3.9.0"
  }
 },
 "nbformat": 4,
 "nbformat_minor": 4
}
